{
 "cells": [
  {
   "cell_type": "markdown",
   "id": "75ffbd95",
   "metadata": {},
   "source": [
    "n-gram'ler kullanılarak metin özeti oluşturulabilir. aşağıdaki kodda büyük bir metin dosyası n-gram'leri oluşturmak için kullanılıyor ve başka bir metin dosyası ile sağlanan metinden hesaplanan en sık 50 bigram'i içeren cümleler seçilerek özet elde ediliyor."
   ]
  },
  {
   "cell_type": "code",
   "execution_count": null,
   "id": "dea5f810",
   "metadata": {},
   "outputs": [],
   "source": [
    "import nltk\n",
    "from nltk.util import ngrams\n",
    "from collections import Counter\n",
    "import string\n",
    "\n",
    "# Gerekli nltk verilerini indirme\n",
    "nltk.download('punkt')\n",
    "\n",
    "# Büyük metin dosyasını okuma ve N-gram frekanslarını hesaplama\n",
    "def ngram_frekanslari_olustur(dosya_adi, n=2):\n",
    "    with open(dosya_adi, \"r\", encoding=\"utf-8\") as file:\n",
    "        metin = file.read()\n",
    "    \n",
    "    # Metni kelime seviyesinde tokenize et ve noktalama işaretlerinden kurtul\n",
    "    kelimeler = nltk.word_tokenize(metin.lower())\n",
    "    kelimeler = [kelime for kelime in kelimeler if kelime not in string.punctuation]\n",
    "    \n",
    "    # N-gram modelini oluştur (varsayılan olarak trigram)\n",
    "    ngramlar = list(ngrams(kelimeler, n))\n",
    "    \n",
    "    # N-gram frekansını hesapla\n",
    "    ngram_freq = Counter(ngramlar)\n",
    "    \n",
    "    return ngram_freq\n",
    "\n",
    "# Özetlenecek metni okuma ve özet oluşturma\n",
    "def metin_ozeti_olustur(dosya_adi, ngram_freq, n=2):\n",
    "    with open(dosya_adi, \"r\", encoding=\"utf-8\") as file:\n",
    "        metin = file.read()\n",
    "    \n",
    "    # Metni cümle seviyesinde tokenize et\n",
    "    cumleler = nltk.sent_tokenize(metin)\n",
    "    \n",
    "    # En sık kullanılan N-gramları seçme\n",
    "    frequent_ngramlar = ngram_freq.most_common(50)\n",
    "    \n",
    "    # N-gram temelli metin özetleme: En sık N-gramların geçtiği cümleleri seç\n",
    "    ozet = []\n",
    "    for ngram in frequent_ngramlar:\n",
    "        #print(ngram)\n",
    "        # N-gramdaki kelimeleri birleştirip arama yapacağız\n",
    "        ngram_kelime = ' '.join(ngram[0])\n",
    "        for cumle in cumleler:\n",
    "            if ngram_kelime in cumle.lower() and cumle not in ozet:\n",
    "                ozet.append(cumle)\n",
    "                break\n",
    "    \n",
    "    return ' '.join(ozet)\n",
    "\n",
    "# Büyük metin dosyasından N-gram frekansları oluşturma\n",
    "ngram_freq = ngram_frekanslari_olustur(\"odtu_derlemi.txt\")\n",
    "\n",
    "# Özetlenecek metin dosyasından özet oluşturma\n",
    "ozet = metin_ozeti_olustur(\"ozetlenecek_metin.txt\", ngram_freq)\n",
    "\n",
    "print(\"Metnin Özeti:\")\n",
    "print(ozet)\n"
   ]
  }
 ],
 "metadata": {
  "kernelspec": {
   "display_name": "Python 3 (ipykernel)",
   "language": "python",
   "name": "python3"
  },
  "language_info": {
   "codemirror_mode": {
    "name": "ipython",
    "version": 3
   },
   "file_extension": ".py",
   "mimetype": "text/x-python",
   "name": "python",
   "nbconvert_exporter": "python",
   "pygments_lexer": "ipython3",
   "version": "3.11.5"
  }
 },
 "nbformat": 4,
 "nbformat_minor": 5
}
