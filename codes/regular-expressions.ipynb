{
 "cells": [
  {
   "cell_type": "code",
   "execution_count": 1,
   "id": "f69ad778",
   "metadata": {},
   "outputs": [
    {
     "name": "stdout",
     "output_type": "stream",
     "text": [
      "'düzenli' kelimesi bulundu.\n"
     ]
    }
   ],
   "source": [
    "import re\n",
    "\n",
    "metin = \"Python ile düzenli ifadeler öğrenmek eğlencelidir.\"\n",
    "\n",
    "# 'düzenli' kelimesini bul\n",
    "sonuc = re.search(r'düzenli', metin)\n",
    "\n",
    "if sonuc:\n",
    "    print(f\"'{sonuc.group()}' kelimesi bulundu.\")\n",
    "else:\n",
    "    print(\"Kelime bulunamadı.\")"
   ]
  },
  {
   "cell_type": "code",
   "execution_count": 2,
   "id": "6376d0eb",
   "metadata": {},
   "outputs": [
    {
     "name": "stdout",
     "output_type": "stream",
     "text": [
      "Bulunan rakamlar: ['3', '42']\n"
     ]
    }
   ],
   "source": [
    "metin = \"Bu cümlede 3 rakam ve 42 sayı bulunmaktadır.\"\n",
    "\n",
    "# Tüm rakamları bul\n",
    "sonuc = re.findall(r'\\d+', metin)\n",
    "\n",
    "print(\"Bulunan rakamlar:\", sonuc)"
   ]
  },
  {
   "cell_type": "code",
   "execution_count": 3,
   "id": "7612613f",
   "metadata": {},
   "outputs": [
    {
     "name": "stdout",
     "output_type": "stream",
     "text": [
      "Bulunan e-posta adresleri: ['email@example.com', 'support@domain.com']\n"
     ]
    }
   ],
   "source": [
    "metin = \"İletişim için email@example.com veya support@domain.com adreslerine yazabilirsiniz.\"\n",
    "\n",
    "# E-posta adreslerini bul\n",
    "sonuc = re.findall(r'[a-zA-Z0-9._%+-]+@[a-zA-Z0-9.-]+\\.[a-zA-Z]{2,}', metin)\n",
    "\n",
    "print(\"Bulunan e-posta adresleri:\", sonuc)"
   ]
  },
  {
   "cell_type": "code",
   "execution_count": null,
   "id": "07b4bbec",
   "metadata": {},
   "outputs": [],
   "source": [
    "# Uygulama: Metinde geçen e-posta adreslerinin domain bölümlerini çıkararak bu domain'lerin frekanslarını hesaplayan kodu yaz.\n"
   ]
  },
  {
   "cell_type": "code",
   "execution_count": 4,
   "id": "70617b5f",
   "metadata": {},
   "outputs": [
    {
     "name": "stdout",
     "output_type": "stream",
     "text": [
      "Bulunan telefon numaraları: ['0555-123-4567', '0532-987-6543']\n",
      "Formatlanmış numaralar: ['0555 123 4567', '0532 987 6543']\n"
     ]
    }
   ],
   "source": [
    "metin = \"Telefon numaraları: 0555-123-4567 ve 0532-987-6543.\"\n",
    "\n",
    "# Telefon numaralarını bul\n",
    "sonuc = re.findall(r'\\d{4}-\\d{3}-\\d{4}', metin)\n",
    "\n",
    "print(\"Bulunan telefon numaraları:\", sonuc)\n",
    "\n",
    "# Numara formatını değiştir (555 123 4567)\n",
    "formatlanmis = [re.sub(r'(\\d{4})-(\\d{3})-(\\d{4})', r'\\1 \\2 \\3', num) for num in sonuc]\n",
    "print(\"Formatlanmış numaralar:\", formatlanmis)"
   ]
  },
  {
   "cell_type": "code",
   "execution_count": null,
   "id": "98ea0ce7",
   "metadata": {},
   "outputs": [],
   "source": [
    "# Uygulama: Metin içinde 18.05.1997 şeklinde Türkçe tarih formatına göre yazılmış bütün ifadeleri 5/18/1997 biçimine çeviren kodu yaz.\n"
   ]
  },
  {
   "cell_type": "code",
   "execution_count": 15,
   "id": "0299a730",
   "metadata": {},
   "outputs": [
    {
     "name": "stdout",
     "output_type": "stream",
     "text": [
      "Bulunan tarihler: ['01/10/2024', '29/19/2024']\n",
      "01/10/2024 geçerli bir tarih.\n",
      "29/19/2024 geçerli değil.\n"
     ]
    }
   ],
   "source": [
    "metin = \"Bugünkü tarih 01/10/2024, ve bir önceki tarih 29/19/2024.\"\n",
    "\n",
    "# Tarihleri bul\n",
    "sonuc = re.findall(r'\\d{2}/\\d{2}/\\d{4}', metin)\n",
    "\n",
    "print(\"Bulunan tarihler:\", sonuc)\n",
    "\n",
    "# Tarihlerin geçerli olup olmadığını kontrol et (örneğin 01/10/2024 geçerli)\n",
    "for tarih in sonuc:\n",
    "    gun, ay, yil = map(int, tarih.split('/'))\n",
    "    if 1 <= gun <= 31 and 1 <= ay <= 12:\n",
    "        print(f\"{tarih} geçerli bir tarih.\")\n",
    "    else:\n",
    "        print(f\"{tarih} geçerli değil.\")"
   ]
  },
  {
   "cell_type": "code",
   "execution_count": 11,
   "id": "80bbacd6",
   "metadata": {},
   "outputs": [
    {
     "name": "stdout",
     "output_type": "stream",
     "text": [
      "Ekleri içeren kelimeler: ['Öğrencinin', 'Kitabın', 'Toplumun', 'Gözlüğün']\n"
     ]
    }
   ],
   "source": [
    "# Uygulama: Verilen bir metinde geçen \"ın, in, un, ün, nın, nin, nun, nün\" Türkçe ekleri içeren kelimeleri elde eden kodu yaz.\n",
    "\n",
    "import re\n",
    "\n",
    "# Örnek metin\n",
    "metin = \"Öğrencinin başarısı çok yüksekti. Kitabın içeriği harikaydı. Toplumun beklentileri değişiyor. Gözlüğün markası ne?\"\n",
    "\n",
    "# Düzenli ifade: Eklerle biten kelimeleri bulmak için\n",
    "ekler = r'\\b\\w*(?:ın|in|un|ün|nın|nin|nun|nün)\\b'\n",
    "\n",
    "# Ekleri içeren kelimeleri bul\n",
    "sonuc = re.findall(ekler, metin)\n",
    "\n",
    "print(\"Ekleri içeren kelimeler:\", sonuc)"
   ]
  },
  {
   "cell_type": "markdown",
   "id": "72c7fa74",
   "metadata": {},
   "source": [
    "**AÇIKLAMA**\n",
    "\n",
    "r'\\b\\w*(?:ın|in|un|ün|nın|nin|nun|nün)\\b'\n",
    "\n",
    "**1. r**\n",
    "Python'da dizgeyi ham (raw) dizge olarak belirtir. Yani, ters eğik çizgi (\\\\) gibi karakterlerin özel anlamı kaybolmaz. Ham dizge kullanmazsak, Python \\\\ karakterini kaçış karakteri olarak değerlendirir. Bu nedenle r işareti, düzenli ifadelerde sıkça kullanılan ters eğik çizgileri olduğu gibi kullanmamızı sağlar.\n",
    "\n",
    "**2. \\b – Kelime Sınırı**\n",
    "\\b ifadesi, bir kelime sınırı anlamına gelir. Yani bu, düzenli ifadenin kelimenin başında veya sonunda olmasını belirtir. \\b karakteri, bir kelimenin başını veya sonunu tanımlamak için kullanılır ve kelimenin tamamına odaklanmamızı sağlar.\n",
    "\n",
    "**3. \\w* – Alfanümerik Karakterler**\n",
    "\\w: Alfanümerik karakterleri ve alt çizgiyi temsil eder. Yani, harfler (a-z, A-Z), rakamlar (0-9) ve _ (alt çizgi) bu karakter setine dahildir.\n",
    "\n",
    "*: Önceki karakterin (bu durumda \\w) sıfır veya daha fazla defa tekrar etmesini sağlar. Bu ifade, kelimenin başında sıfır ya da daha fazla karakter olabileceğini belirtir. Başka bir deyişle, \\w*, sıfır ya da daha fazla alfanümerik karakterden oluşan bir dizgeyi temsil eder. Bu, kelimenin ekten önceki kısmını tanımlar.\n",
    "\n",
    "**4. (?:...) – Gruplama (Non-Capturing Group)**\n",
    "(?:...): Parantez içindeki ifadeleri gruplar, ancak non-capturing (yakalamayan) bir grup oluşturur. Yani bu grup sadece düzenli ifadeyi tanımlamak için kullanılır, ama yakalanan sonuçların bir parçası olmaz.\n",
    "Neden kullanılır? Çünkü sadece düzenli ifadede belirttiğimiz ekleri yakalamak istemiyoruz; bu eklerle biten kelimeleri istiyoruz. Bu yüzden yakalamayan grup (non-capturing group) kullanıyoruz.\n",
    "Bu parantez içinde gelen desenler düzenli ifadede tanımlanan eklerdir: ın, in, un, ün, nın, nin, nun, nün.\n",
    "\n",
    "**5. (ın|in|un|ün|nın|nin|nun|nün) – Alternatifler (Ekleme Alternatifleri)**\n",
    "Parantez içindeki bu ifade, alternatifleri belirtir. Boru işareti | \"veya\" anlamına gelir. Bu nedenle, bu grup \"ın\", \"in\", \"un\", \"ün\", \"nın\", \"nin\", \"nun\" ya da \"nün\" ile biten kelimeleri eşleştirir.\n",
    "Bu alternatifler, Türkçedeki belirtilen eklerdir ve metindeki kelimelerin sonundaki bu ekleri tanımlamak için kullanılır.\n",
    "\n",
    "**6. \\b – Kelime Sınırı (Tekrar)**\n",
    "Bu \\b, kelimenin son sınırını belirtir. Yani, bu eklerle biten tam bir kelime olmasını sağlar. Kelimenin sonunda bir sınır olmasını (örneğin boşluk ya da noktalama işareti) zorunlu hale getirir. Bu, eklerle biten kelimeleri tam olarak yakalar."
   ]
  },
  {
   "cell_type": "code",
   "execution_count": null,
   "id": "533b7392",
   "metadata": {},
   "outputs": [],
   "source": [
    "# bir metindeki 'method' kelimelerini 'technique' ile değiştiren kod\n",
    "\n",
    "import re\n",
    "\n",
    "# Metin dosyasını okuma\n",
    "with open('ornek_metin.txt', 'r', encoding='utf-8') as file:\n",
    "    metin = file.read()\n",
    "\n",
    "# 'Python' kelimesini 'Django' ile değiştirme\n",
    "yenilenmis_metin = re.sub(r'method', 'technique', metin)\n",
    "\n",
    "# Yeni dosyaya yazma\n",
    "with open('yenilenmis_metin.txt', 'w', encoding='utf-8') as file:\n",
    "    file.write(yenilenmis_metin)\n",
    "\n",
    "print(\"Değiştirilmiş metin yeni dosyaya kaydedildi.\")"
   ]
  },
  {
   "cell_type": "code",
   "execution_count": 16,
   "id": "b2dea7af",
   "metadata": {},
   "outputs": [
    {
     "name": "stdout",
     "output_type": "stream",
     "text": [
      "'-maktadır, -mektedir' ile biten kelimeler: ['yapmaktadır', 'istememektedir']\n",
      "'-mıştır, -miştir, -muştur, -müştür' ile biten kelimeler: ['yapmıştır', 'olmuştur', 'girmiştir', 'üzmüştür']\n"
     ]
    }
   ],
   "source": [
    "# -maktadır, -mektedir' ile biten kelimeler ve -mıştır, -miştir, -muştur, -müştür ile biten kelimeleri listeleyen kod\n",
    "\n",
    "import re\n",
    "\n",
    "# Metin dosyasını okuma\n",
    "with open('ornek_metin.txt', 'r', encoding='utf-8') as file:\n",
    "    metin = file.read()\n",
    "\n",
    "# 'maktadır' ve 'mektedir' ile biten kelimeleri bulmak için\n",
    "mak_mek_grubu = re.findall(r'\\b\\w*(?:maktadır|mektedir)\\b', metin)\n",
    "\n",
    "# 'mıştır, miştir, muştur, müştür' ile biten kelimeleri bulmak için\n",
    "mis_mus_grubu = re.findall(r'\\b\\w*(?:mıştır|miştir|muştur|müştür)\\b', metin)\n",
    "\n",
    "print(\"'-maktadır, -mektedir' ile biten kelimeler:\", mak_mek_grubu)\n",
    "print(\"'-mıştır, -miştir, -muştur, -müştür' ile biten kelimeler:\", mis_mus_grubu)\n"
   ]
  },
  {
   "cell_type": "code",
   "execution_count": 17,
   "id": "26627d9a",
   "metadata": {},
   "outputs": [
    {
     "name": "stdout",
     "output_type": "stream",
     "text": [
      "Cümle sonlarındaki kelimeler: ['cümledir.', 'oldu?', 'cevap!']\n"
     ]
    }
   ],
   "source": [
    "import re\n",
    "\n",
    "metin = \"Bu bir örnek cümledir. Neden böyle oldu? İşte cevap!\"\n",
    "\n",
    "# Cümle sonlarındaki kelimeleri bul\n",
    "cumle_sonu_regex = r'\\b\\w+[.?!]'\n",
    "cumle_sonu_list = re.findall(cumle_sonu_regex, metin)\n",
    "\n",
    "print(\"Cümle sonlarındaki kelimeler:\", cumle_sonu_list)"
   ]
  },
  {
   "cell_type": "markdown",
   "id": "b533f2b9",
   "metadata": {},
   "source": [
    "Üstteki kodda cümle sonundaki kelimeler tespit edilmiştir \n",
    "ancak noktalama işaretleri de yakalanmıştır, noktalama işaretlerini hariç tutmak için bir regex yöntemi araştırın."
   ]
  },
  {
   "cell_type": "code",
   "execution_count": 18,
   "id": "fb9e6cea",
   "metadata": {},
   "outputs": [
    {
     "name": "stdout",
     "output_type": "stream",
     "text": [
      "Geçerli IP adresleri: ['192.168.1.1', '255.255.255.255']\n"
     ]
    }
   ],
   "source": [
    "# IP adresi doğrulama\n",
    "\n",
    "import re\n",
    "\n",
    "metin = \"Server IP adresleri: 192.168.1.1, 255.255.255.255, 999.999.999.999.\"\n",
    "\n",
    "# Geçerli IP adreslerini bulma\n",
    "ip_regex = r'\\b(?:[0-9]{1,3}\\.){3}[0-9]{1,3}\\b'\n",
    "ip_list = re.findall(ip_regex, metin)\n",
    "\n",
    "# Geçerli IP'leri doğrulama (0-255 arası olmalı)\n",
    "valid_ip_list = [ip for ip in ip_list if all(0 <= int(part) <= 255 for part in ip.split('.'))]\n",
    "\n",
    "print(\"Geçerli IP adresleri:\", valid_ip_list)"
   ]
  },
  {
   "cell_type": "code",
   "execution_count": 19,
   "id": "4ffb3261",
   "metadata": {},
   "outputs": [
    {
     "name": "stdout",
     "output_type": "stream",
     "text": [
      "Büyük harflerle yazılmış kelimeler: ['METİN', 'KELİMELER']\n",
      "Küçük harflerle yazılmış kelimeler: ['içinde', 'bazı', 'büyük', 'harfle', 'yazılmıştır']\n"
     ]
    }
   ],
   "source": [
    "# Büyük ve küçük harfleri ayırma\n",
    "\n",
    "import re\n",
    "\n",
    "metin = \"Bu METİN içinde bazı KELİMELER büyük harfle yazılmıştır.\"\n",
    "\n",
    "# Büyük harfli kelimeleri bul\n",
    "buyuk_harfler = re.findall(r'\\b[A-ZÇĞİÖŞÜ]+\\b', metin)\n",
    "\n",
    "# Küçük harfli kelimeleri bul\n",
    "kucuk_harfler = re.findall(r'\\b[a-zçğıöşü]+\\b', metin)\n",
    "\n",
    "print(\"Büyük harflerle yazılmış kelimeler:\", buyuk_harfler)\n",
    "print(\"Küçük harflerle yazılmış kelimeler:\", kucuk_harfler)"
   ]
  },
  {
   "cell_type": "code",
   "execution_count": 20,
   "id": "73f72aed",
   "metadata": {},
   "outputs": [
    {
     "name": "stdout",
     "output_type": "stream",
     "text": [
      "Bulunan sayılar: ['3', '42', '100']\n",
      "Sayıların toplamı: 145\n"
     ]
    }
   ],
   "source": [
    "# Metnin içindeki tüm sayıları bulma ve toplama\n",
    "\n",
    "import re\n",
    "\n",
    "metin = \"Bu metinde 3 rakam, 42 sayı ve toplamda 100 sayı bulunmaktadır.\"\n",
    "\n",
    "# Metindeki tüm sayıları bul\n",
    "sayi_list = re.findall(r'\\b\\d+\\b', metin)\n",
    "\n",
    "# Sayıları toplayın\n",
    "toplam = sum(map(int, sayi_list))\n",
    "\n",
    "print(\"Bulunan sayılar:\", sayi_list)\n",
    "print(\"Sayıların toplamı:\", toplam)"
   ]
  },
  {
   "cell_type": "markdown",
   "id": "6d3103c8",
   "metadata": {},
   "source": [
    "**ÖDEV: Düzenli İfadeler ile Metin Temizleme ve İşleme**\n",
    "\n",
    "Bu ödevde, büyük bir metin veri kümesi üzerinde düzenli ifadeleri kullanarak, metin temizleme, analiz ve raporlama yapılacaktır. Aşağıdaki adımlar izlenerek belirli görevler yerine getirilecektir. Ödev sayesinde düzenli ifadelerle metin manipülasyonu ve analizini derinlemesine anlayacak ve gerçek dünya uygulamalarında nasıl kullanılacağı konusunda deneyim kazanacaksınız.\n",
    "\n",
    "**Adımlar:**\n",
    "\n",
    "- **Veri elde etme:** Wikipedia makaleleri, haber arşivleri, tweetler, forum verileri veya başka bir büyük açık veri kaynağından bir \"Türkçe\" metin veri seti bulup indirin. Veri setinin en az 10.000 kelime veya 50.000 karakter içermesi gerekir.\n",
    "\n",
    "- **Metin Temizleme:**\n",
    "\n",
    "    Özel sembollerin ve \\</br> gibi HTML etiketlerinin çıkarılması.\n",
    "    Çift tırnakların atılması\n",
    "    Fazla boşlukların ve satır sonlarının düzeltilmesi.\n",
    "    Kısaltmaların ve sayısal ifadelerin bulunup kaldırılması (örn. \"Dr.\" veya \"i.e.\").\n",
    "    Tüm e-posta adreslerini, URL'leri ve telefon numaralarının kaldırılması.\n",
    "    Tarih, saat vb. ifadelerin kaldırılması.\n",
    "    Sayı, rakam biçiminde yazılan token'ların kaldırılması.\n",
    "\n",
    "    NOT: Noktalama işaretlerinin bu aşamada atılmayacak, metin analizinde cümle sonu belirlemek için kullanılacaktır.\n",
    "\n",
    "    - **Örnek girdi:** 1.1.1970'de Fatsa'da doğan sanatçı 27 dile çevrilen \"Birkaç gr. Zeka\" adlı kitabında toplum eleştirisi yapıyor.\n",
    "    \n",
    "    - **Örnek çıktı:** 'de Fatsa'da doğan sanatçı dile çevrilen Birkaç Zeka adlı kitabında toplum eleştirisi yapıyor.\n",
    "\n",
    "- **Metin Analizi:**\n",
    "\n",
    "    Öncelikle temizlenen metindeki bütün karakterler küçük harf biçimine çevrilecektir.\n",
    "\n",
    "    Elde edilen metin cümlelerine ve her bir cümle de kendi içinde kelimelerine ayrılacaktır.\n",
    "\n",
    "    Bunun ardından kelime frekansları, ortalama kelime uzunluğu ve ortalama cümle uzunluğu bulunacaktır."
   ]
  }
 ],
 "metadata": {
  "kernelspec": {
   "display_name": "Python 3 (ipykernel)",
   "language": "python",
   "name": "python3"
  },
  "language_info": {
   "codemirror_mode": {
    "name": "ipython",
    "version": 3
   },
   "file_extension": ".py",
   "mimetype": "text/x-python",
   "name": "python",
   "nbconvert_exporter": "python",
   "pygments_lexer": "ipython3",
   "version": "3.11.5"
  }
 },
 "nbformat": 4,
 "nbformat_minor": 5
}
