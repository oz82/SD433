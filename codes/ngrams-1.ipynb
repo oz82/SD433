{
 "cells": [
  {
   "cell_type": "code",
   "execution_count": null,
   "id": "6cb9166d",
   "metadata": {},
   "outputs": [],
   "source": [
    "import nltk\n",
    "from nltk.util import ngrams\n",
    "from collections import Counter\n",
    "import string\n",
    "nltk.download('punkt')"
   ]
  },
  {
   "cell_type": "code",
   "execution_count": null,
   "id": "ccbc582e",
   "metadata": {},
   "outputs": [],
   "source": [
    "# Metin dosyasını oku\n",
    "with open(\"odtu_derlemi.txt\", \"r\", encoding=\"utf-8\") as file:\n",
    "    metin = file.read()\n",
    "\n",
    "# Metni kelime seviyesinde tokenize et\n",
    "kelimeler = nltk.word_tokenize(metin.lower())\n",
    "\n",
    "# Noktalama işaretlerinden kurtul\n",
    "kelimeler = [kelime for kelime in kelimeler if kelime not in string.punctuation]\n",
    "\n",
    "# İlk 10 kelime\n",
    "print(\"İlk 10 Tokenize edilmiş kelime: \", kelimeler[:10])"
   ]
  },
  {
   "cell_type": "code",
   "execution_count": null,
   "id": "8cd9785a",
   "metadata": {},
   "outputs": [],
   "source": [
    "# 2-gram (Bigram) modelini oluştur\n",
    "bigramlar = list(ngrams(kelimeler, 2))\n",
    "\n",
    "print(\"Bigramlar: \", bigramlar)\n",
    "\n",
    "# Bigramların sıklığını hesapla\n",
    "bigram_freq = Counter(bigramlar)\n",
    "\n",
    "# İlk 10 bigram\n",
    "print(\"İlk 10 Bigram: \", bigramlar[:10])\n"
   ]
  },
  {
   "cell_type": "code",
   "execution_count": null,
   "id": "f95cdc22",
   "metadata": {},
   "outputs": [],
   "source": [
    "# Her bir bigramın olasılıklarını hesapla ve bir listeye kaydet\n",
    "toplam_bigram = sum(bigram_freq.values())\n",
    "\n",
    "bigram_olasiliklari = [(bigram, sayi / toplam_bigram) for bigram, sayi in bigram_freq.items()]\n",
    "\n",
    "# Olasılıklara göre büyükten küçüğe sıralama\n",
    "bigram_olasiliklari.sort(key=lambda x: x[1], reverse=True)\n",
    "\n",
    "# En olası 50 bigramı gösterelim\n",
    "en_olasi_50 = bigram_olasiliklari[:250]\n",
    "\n",
    "# En olası 50 bigramı yazdırma\n",
    "for bigram, olasilik in en_olasi_50:\n",
    "    print(f\"Bigram: \\\"{bigram[0]} {bigram[1]}\\\", Olasılık: {olasilik}\")"
   ]
  }
 ],
 "metadata": {
  "kernelspec": {
   "display_name": "Python 3 (ipykernel)",
   "language": "python",
   "name": "python3"
  },
  "language_info": {
   "codemirror_mode": {
    "name": "ipython",
    "version": 3
   },
   "file_extension": ".py",
   "mimetype": "text/x-python",
   "name": "python",
   "nbconvert_exporter": "python",
   "pygments_lexer": "ipython3",
   "version": "3.11.5"
  }
 },
 "nbformat": 4,
 "nbformat_minor": 5
}
