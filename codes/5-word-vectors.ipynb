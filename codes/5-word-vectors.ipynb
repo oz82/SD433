{
 "cells": [
  {
   "cell_type": "markdown",
   "id": "73e70eb3",
   "metadata": {},
   "source": [
    "# Kelime Vektörleri Nedir?\n",
    "\n",
    "Kelime vektörleri, kelimeleri sürekli sayısal vektörler olarak temsil eder. Bu vektörler kelimeler arasındaki anlamsal ilişkileri yakalamak için kullanılır.\n",
    "\n",
    "Örneğin, \"kral\" ve \"kraliçe\" kelimeleri benzer vektörlere sahip olabilir çünkü semantik olarak ilişkilidirler. \n",
    "Kelime vektörleri, doğal dil işlemede yaygın olarak kullanılır ve metinlerin daha verimli işlenmesini sağlar."
   ]
  },
  {
   "cell_type": "markdown",
   "id": "b7ff3a8a",
   "metadata": {},
   "source": [
    "# Word2Vec\n",
    "\n",
    "Word2Vec, Google tarafından geliştirilen ve kelimeleri vektörler halinde temsil eden bir modeldir.\n",
    "\n",
    "İki temel yaklaşımı vardır:\n",
    "- **CBOW (Continuous Bag of Words)**: Verilen bir bağlamdan yola çıkarak hedef kelimeyi tahmin etmeye çalışır.\n",
    "- **Skip-Gram**: Verilen bir kelimeden yola çıkarak bağlamdaki diğer kelimeleri tahmin etmeye çalışır.\n",
    "\n",
    "Word2Vec büyük veri kümelerinde etkili bir şekilde eğitildiğinde kelimeler arasındaki anlamsal benzerlikleri öğrenebilir ve analoji testlerinde başarılı sonuçlar verebilir."
   ]
  },
  {
   "cell_type": "markdown",
   "id": "9dea2edb",
   "metadata": {},
   "source": [
    "# GloVe (Global Vectors for Word Representation)\n",
    "\n",
    "GloVe Stanford Üniversitesi tarafından geliştirilmiş bir kelime vektörü modelidir. \n",
    "\n",
    "Eş-oluşum matrisi üzerine kurulu olan GloVe, kelimelerin metin içerisinde ne sıklıkta bir arada bulunduklarına dayalı olarak vektör temsilleri oluşturur.\n",
    "\n",
    "Bu model kelimelerin daha global bağlamda nasıl ilişkilendirileceğini öğrenir ve genellikle Word2Vec'e göre daha genel ilişkiler yakalayabilir."
   ]
  },
  {
   "cell_type": "markdown",
   "id": "510669cc",
   "metadata": {},
   "source": [
    "# FastText\n",
    "FastText, Facebook tarafından geliştirilmiş bir modeldir ve Word2Vec'e benzer şekilde çalışır, ancak alt kelime bilgisi kullanır.\n",
    "\n",
    "FastText, kelimeleri n-gramlar (karakter seviyesinde) şeklinde temsil ederek nadir ve uzun kelimeler için daha iyi temsiller sağlar.\n",
    "\n",
    "Bu özellikle zengin morfolojiye sahip dillerde önemli bir avantajdır ve kelimelerin iç yapılarından faydalanarak daha kapsamlı vektörler oluşturur."
   ]
  },
  {
   "cell_type": "markdown",
   "id": "09bcaea5",
   "metadata": {},
   "source": [
    "Word2Vec Uygulaması"
   ]
  },
  {
   "cell_type": "code",
   "execution_count": 1,
   "id": "78fa57f4",
   "metadata": {},
   "outputs": [
    {
     "name": "stderr",
     "output_type": "stream",
     "text": [
      "[nltk_data] Downloading package punkt to /home/oz/nltk_data...\n",
      "[nltk_data]   Package punkt is already up-to-date!\n",
      "[nltk_data] Downloading package gutenberg to /home/oz/nltk_data...\n",
      "[nltk_data]   Unzipping corpora/gutenberg.zip.\n"
     ]
    },
    {
     "name": "stdout",
     "output_type": "stream",
     "text": [
      "[['[', 'emma', 'by', 'jane', 'austen', '1816', ']'], ['volume', 'i'], ['chapter', 'i'], ['emma', 'woodhouse', ',', 'handsome', ',', 'clever', ',', 'and', 'rich', ',', 'with', 'a', 'comfortable', 'home'], ['and', 'happy', 'disposition', ',', 'seemed', 'to', 'unite', 'some', 'of', 'the', 'best', 'blessings']]\n"
     ]
    }
   ],
   "source": [
    "# Gerekli kütüphaneleri yükleyelim\n",
    "import gensim\n",
    "from gensim.models import Word2Vec\n",
    "from nltk.tokenize import word_tokenize\n",
    "from nltk.corpus import gutenberg\n",
    "import nltk\n",
    "\n",
    "# NLTK verilerini indiriyoruz (ilk kullanımda gerekli)\n",
    "nltk.download('punkt')\n",
    "nltk.download('gutenberg')\n",
    "\n",
    "# Gutenberg veri setinden bir metin örneği alalım\n",
    "corpus = gutenberg.raw('austen-emma.txt')\n",
    "\n",
    "# Metni tokenize edelim\n",
    "tokenized_text = [word_tokenize(sentence.lower()) for sentence in corpus.split('\\n') if sentence]\n",
    "\n",
    "# İlk birkaç cümleyi görelim\n",
    "print(tokenized_text[:5])\n",
    "\n",
    "# CBOW modelini eğitelim\n",
    "cbow_model = Word2Vec(sentences=tokenized_text, vector_size=100, window=5, min_count=5, sg=0, epochs=10)"
   ]
  },
  {
   "cell_type": "code",
   "execution_count": 3,
   "id": "8648a22b",
   "metadata": {},
   "outputs": [
    {
     "name": "stdout",
     "output_type": "stream",
     "text": [
      "[ 0.818748    0.5899234  -0.64771366 -0.04100614  0.10396647 -0.75807804\n",
      " -0.04451495  0.8762559   0.9698591  -0.47520775 -0.30822644 -0.66120636\n",
      " -0.2854574   0.86950034  0.92611766  0.00250605  0.14357165  0.5666714\n",
      "  0.37375733 -1.1016698   0.42031765  0.09195323  0.3083704  -0.27786493\n",
      "  0.24961738  1.0577741  -0.5126266  -0.13306253  0.05079819  0.17929724\n",
      "  0.6357652  -0.06558165  1.5132914  -0.3322564  -0.34375995  1.0984765\n",
      "  0.63849604  0.2952555  -0.60757625  0.14542294 -0.716688    0.2999094\n",
      " -0.4554097   0.19618872  0.0824668  -0.5393717  -0.6018247  -0.28470525\n",
      "  1.0294763   0.2289825  -0.28561345 -0.08324041  0.17068987 -0.7233929\n",
      "  0.29079375  0.01885798  0.19325256  0.44119376  0.9761218   0.80201286\n",
      " -0.01388059  0.08721133  0.40544468  0.72885007 -0.07322339  0.4412459\n",
      " -0.04067072 -0.05134872 -0.15881044  0.4855038  -0.23607977  0.02829381\n",
      " -0.9859663   0.1595452   0.5385338   0.49420643  0.43031746  0.36705455\n",
      "  0.03383632  0.3386196  -0.46896675 -0.10605266 -0.14977963  0.873206\n",
      "  0.53532755  0.0028579   0.44733053  0.25379154 -0.08077177  0.8580824\n",
      "  0.48939     0.07464748  0.28811634 -0.43314254  0.21701713 -0.20374061\n",
      "  0.5479958   0.0627597   0.05231933 -0.19128144]\n",
      "[('obligation', 0.9676899313926697), ('public', 0.9648987054824829), ('preferred', 0.9645439386367798), ('offers', 0.964381754398346), ('catching', 0.9640729427337646)]\n"
     ]
    }
   ],
   "source": [
    "# Örnek bir kelimenin vektörünü inceleyelim\n",
    "kelime_vektoru = cbow_model.wv['emma']  # 'emma' kelimesinin vektörü\n",
    "print(kelime_vektoru)\n",
    "\n",
    "# Benzer kelimeleri bulalım\n",
    "benzer_kelimeler = cbow_model.wv.most_similar('human', topn=5)\n",
    "print(benzer_kelimeler)"
   ]
  },
  {
   "cell_type": "markdown",
   "id": "311feb2d",
   "metadata": {},
   "source": [
    "Şimdi de eğitim için kullanılacak metni bir dosyadan okuyalım"
   ]
  },
  {
   "cell_type": "code",
   "execution_count": 4,
   "id": "75d61774",
   "metadata": {},
   "outputs": [
    {
     "name": "stdout",
     "output_type": "stream",
     "text": [
      "[['koca', 'bir', 'duvar', 'taşıyordun', 'yüreğinde', 'kimsenin', 'aşamayacağı', ',', 'aşmaya', 'cesaret', 'bile', 'edemeyeceği', '.'], ['dışa', 'karşı', 'güçlüydü', ',', 'ama', 'içe', ',', 'kendi', 'yüreğine', 'yıkılmak', 'üzereydi', '.'], ['anılarla', 'örülmüş', ',', 'acılarla', 'harçlanmış', 'bu', 'duvara', 'tırmanmak', ',', 'onu', 'aşabilmenin', 'ilk', 'şartıydı', '.'], ['vazgeçmek', 'kolaydı', ',', 'ertelemek', 'de', '.'], ['ama', 'tırmanmaya', 'başlandı', 'mı', 'bitirilmeli', '!']]\n"
     ]
    }
   ],
   "source": [
    "# Gerekli kütüphaneleri yükleyelim\n",
    "import gensim\n",
    "from gensim.models import Word2Vec\n",
    "from nltk.tokenize import word_tokenize\n",
    "\n",
    "# Dosyadan metni okuyalım\n",
    "with open('dosyalar//odtu_derlemi.txt', 'r', encoding='utf-8') as file:\n",
    "    corpus = file.read()\n",
    "\n",
    "# Metni tokenize edip küçük harfe çevirelim\n",
    "tokenized_text = [word_tokenize(sentence.lower()) for sentence in corpus.split('\\n') if sentence]\n",
    "\n",
    "# İlk birkaç cümleyi görelim\n",
    "print(tokenized_text[:5])\n",
    "\n",
    "# CBOW modelini eğitelim\n",
    "cbow_model = Word2Vec(sentences=tokenized_text, vector_size=100, window=5, min_count=5, sg=0, epochs=10)"
   ]
  },
  {
   "cell_type": "code",
   "execution_count": 8,
   "id": "8ee805bf",
   "metadata": {},
   "outputs": [
    {
     "name": "stdout",
     "output_type": "stream",
     "text": [
      "[(\"efendi'nin\", 0.8541117906570435), ('ayşe', 0.8516954779624939), ('güngör', 0.8449154496192932), ('bekir', 0.8415613770484924), ('kahveci', 0.8366692066192627), ('ahmed', 0.8328102827072144), ('hanım', 0.8296796679496765), ('kenan', 0.8270021080970764), ('niyazi', 0.8242082595825195), ('yağmurdereli', 0.8217030763626099), ('amca', 0.8202754259109497), ('beye', 0.818920910358429), ('şemsî', 0.8177227973937988), ('ağabey', 0.8172321915626526), ('sevim', 0.8168102502822876), ('ertan', 0.8152762055397034), ('muazzez', 0.8150972723960876), ('mithat', 0.8149206042289734), ('şenay', 0.8144675493240356), ('rıza', 0.8126181364059448), ('muzaffer', 0.8125320672988892), ('münir', 0.8114299178123474), ('gencebay', 0.8110565543174744), ('naci', 0.8110527992248535), ('dostum', 0.8106493949890137), ('karısı', 0.8102031946182251), ('paşa', 0.8101155757904053), ('sezen', 0.8094546794891357), ('fazıl', 0.8085280060768127), ('hikmet', 0.8076152801513672), ('salvador', 0.8065292239189148), (\"ali'nin\", 0.8064853549003601), ('zeynel', 0.8059612512588501), ('saffet', 0.8032567501068115), ('göksel', 0.8030350804328918), ('muhtar', 0.8027534484863281), ('osman', 0.802721381187439), ('mahmut', 0.802107572555542), ('i̇zzet', 0.8012193441390991), ('efendi', 0.8004133701324463), ('patron', 0.8002907037734985), ('halil', 0.7992973327636719), ('tülay', 0.7988609671592712), (\"hanım'la\", 0.7986876368522644), ('arşidük', 0.7983235716819763), ('berna', 0.7966652512550354), ('sönmez', 0.7966263294219971), ('bila', 0.7959650754928589), ('altan', 0.7948998808860779), ('merhum', 0.7928653359413147)]\n"
     ]
    }
   ],
   "source": [
    "# Örnek bir kelimenin vektörünü inceleyelim\n",
    "kelime_vektoru = cbow_model.wv['deniz']\n",
    "#print(kelime_vektoru)\n",
    "\n",
    "# Benzer kelimeleri bulalım\n",
    "benzer_kelimeler = cbow_model.wv.most_similar('rahmetli', topn=50)\n",
    "print(benzer_kelimeler)"
   ]
  },
  {
   "cell_type": "markdown",
   "id": "3a9aaa83",
   "metadata": {},
   "source": [
    "Şimdi de aynı metinle skipgram modeli eğitelim (sg parametresinin 1 olarak değiştiğine dikkat edin)"
   ]
  },
  {
   "cell_type": "code",
   "execution_count": 9,
   "id": "c6ddb6f2",
   "metadata": {},
   "outputs": [
    {
     "name": "stdout",
     "output_type": "stream",
     "text": [
      "[('dağlık', 0.6101021766662598), ('mahsulleri', 0.5743685364723206), ('tabanında', 0.5678184628486633), ('gezmiş', 0.5584552884101868), ('otobüsleri', 0.5581162571907043)]\n"
     ]
    }
   ],
   "source": [
    "# SkipGram modelini eğitelim\n",
    "skipgram_model = Word2Vec(sentences=tokenized_text, vector_size=100, window=5, min_count=5, sg=1, epochs=10)"
   ]
  },
  {
   "cell_type": "code",
   "execution_count": 15,
   "id": "8397cd11",
   "metadata": {},
   "outputs": [
    {
     "name": "stdout",
     "output_type": "stream",
     "text": [
      "[('kalk', 0.8361334204673767), ('otur', 0.8333492279052734), ('i̇stersen', 0.831436812877655), ('uşağum', 0.8274722099304199), ('simdi', 0.8269408941268921), ('uyu', 0.8243774771690369), ('giyin', 0.8222067952156067), ('tövbe', 0.8207753896713257), ('istersen', 0.8202676177024841), ('habule', 0.8186061382293701), ('şuraya', 0.8185847401618958), ('gavur', 0.8166036009788513), ('üzülme', 0.8140789270401001), ('koşun', 0.8123148083686829), ('devetabanı', 0.8111951947212219), ('buyrun', 0.8075176477432251), ('bakayım', 0.8053044676780701), ('yürü', 0.8047415614128113), ('boğ', 0.8043554425239563), ('kızma', 0.8029355406761169), (\"allah'un\", 0.8023252487182617), ('gir', 0.8018290996551514), ('ağlamayı', 0.8016536235809326), ('sok', 0.8013679385185242), ('koy', 0.8003383278846741), ('karını', 0.7991716861724854), ('dokun', 0.7984585165977478), ('koş', 0.7981442809104919), ('gel', 0.7968695759773254), ('bari', 0.7956089973449707), ('geleyim', 0.7954963445663452), ('götüreyim', 0.7940506935119629), ('tekini', 0.7939054369926453), ('kapa', 0.7934290170669556), ('safiye', 0.7933411598205566), ('lan', 0.7931166887283325), ('babana', 0.7929139733314514), ('bakiim', 0.7927051186561584), ('seç', 0.7922621965408325), ('alacaktım', 0.7911694049835205), ('dediklerimi', 0.7905178070068359), ('eyvah', 0.7899086475372314), ('biriniz', 0.7862376570701599), (\"n'olursun\", 0.7860834002494812), ('düştüm', 0.7859523296356201), ('düşerse', 0.785374641418457), ('görürsün', 0.7844387292861938), ('sor', 0.7842687964439392), ('çal', 0.7840484380722046), ('ulan', 0.7832328081130981)]\n"
     ]
    }
   ],
   "source": [
    "# Benzer kelimeleri bulalım\n",
    "benzer_kelimeler = skipgram_model.wv.most_similar('git', topn=50)\n",
    "print(benzer_kelimeler)"
   ]
  },
  {
   "cell_type": "markdown",
   "id": "e4c5e4a9",
   "metadata": {},
   "source": [
    "Glove Modeli Uygulaması"
   ]
  },
  {
   "cell_type": "code",
   "execution_count": 16,
   "id": "c8fba0c3",
   "metadata": {},
   "outputs": [
    {
     "name": "stdout",
     "output_type": "stream",
     "text": [
      "[==================================================] 100.0% 66.0/66.0MB downloaded\n",
      "[ 0.3691     0.95701   -0.83785   -0.2143     0.034267   1.4412\n",
      " -0.95594    0.023781  -0.069092  -0.86075   -0.089889   1.4155\n",
      " -0.35297   -0.23195    0.68667    0.027121   0.15515   -0.48405\n",
      "  0.13971   -0.0036475  0.39878    1.2105     0.47873    0.39818\n",
      "  1.313     -0.26559    0.34741   -0.29525   -0.707     -0.14209\n",
      "  0.20828    0.16988   -0.035548  -0.1355    -0.31802   -0.21994\n",
      " -0.41145   -0.10145    0.77866   -1.0139     0.31763    0.11064\n",
      "  0.30528   -1.2731     0.064314   0.40395    0.13639   -1.1875\n",
      "  0.61469    0.19161  ]\n",
      "[('helen', 0.8634049296379089), ('julia', 0.8156765103340149), ('emily', 0.8105693459510803), ('alice', 0.8045884966850281), ('margaret', 0.7923381328582764)]\n"
     ]
    }
   ],
   "source": [
    "import gensim.downloader as api\n",
    "\n",
    "# Hazır GloVe vektörlerini yükleyelim (örnek olarak 50 boyutlu GloVe vektörleri)\n",
    "glove_model = api.load(\"glove-wiki-gigaword-50\")\n",
    "\n",
    "# 'emma' kelimesinin vektörünü bulalım\n",
    "kelime_vektoru = glove_model['emma']\n",
    "print(kelime_vektoru)"
   ]
  },
  {
   "cell_type": "code",
   "execution_count": 17,
   "id": "a1e85697",
   "metadata": {},
   "outputs": [
    {
     "name": "stdout",
     "output_type": "stream",
     "text": [
      "[('animal', 0.7725327610969543), ('rights', 0.764119565486908), ('aids', 0.7401154041290283), ('nature', 0.7374996542930603), ('particular', 0.7333518266677856)]\n"
     ]
    }
   ],
   "source": [
    "# 'emma' kelimesine benzer diğer kelimeleri bulalım\n",
    "benzer_kelimeler = glove_model.most_similar('human', topn=5)\n",
    "print(benzer_kelimeler)"
   ]
  },
  {
   "cell_type": "markdown",
   "id": "6c9495da",
   "metadata": {},
   "source": [
    "FastText Uygulaması"
   ]
  },
  {
   "cell_type": "code",
   "execution_count": 18,
   "id": "5dd76600",
   "metadata": {},
   "outputs": [
    {
     "name": "stdout",
     "output_type": "stream",
     "text": [
      "[-0.4709307  -0.30291274  0.07495979  0.03264677  0.5613824  -0.29953328\n",
      "  0.24637112 -0.16889565 -0.71930814 -0.47907215  0.07355497  0.13273461\n",
      " -0.22027016  0.73189986 -0.25268844  0.3072911  -0.05755746  0.27372733\n",
      "  0.5343005  -0.2502061  -0.07833555 -0.30517215  0.10600187  0.73542523\n",
      " -0.4682778   0.3332062  -0.46877563  0.6932478   0.49635953  0.4355669\n",
      "  0.15710612 -0.8638112   0.45706823  0.6244465  -0.23571448  0.05792658\n",
      " -0.45207247  0.5058808   0.10776938  0.92186356 -0.6802369   0.01561434\n",
      "  0.4301338  -0.7137626  -0.16983557 -0.28931937 -0.14971267  0.5083723\n",
      "  0.59564155  0.6394854   0.85351455  0.6373393   0.03724342  0.36105156\n",
      "  0.9116713   0.6578449  -0.16557099  0.43801752 -0.6290897  -0.45165265\n",
      " -0.17413574  0.3075065  -0.19001889  0.00763785  0.60514325  0.8303564\n",
      "  1.3592817  -0.28506416 -0.43031305 -0.13493232 -0.3217196   0.22961943\n",
      " -0.47612265 -0.07187053  0.31632805  0.19792566  1.0423522   0.12188437\n",
      "  0.30723432 -0.27889666  1.083216    0.16731663  0.6708062   0.7048977\n",
      " -0.18651491  0.86112744  0.18306854 -0.25616172  0.13241318 -0.1553119\n",
      "  0.06843062 -0.9481612  -0.37982285 -0.4534797   0.04811839 -0.3072914\n",
      " -0.05031076  0.09381158 -0.17952661  0.3139442 ]\n",
      "[('denizci', 0.8507770895957947), ('denizi', 0.8373604416847229), ('denizli', 0.826443076133728), ('gökdeniz', 0.8225095272064209), ('denizle', 0.8135625123977661)]\n"
     ]
    }
   ],
   "source": [
    "from gensim.models import FastText\n",
    "\n",
    "# FastText modelini 10 epoch boyunca eğitelim\n",
    "fasttext_model = FastText(sentences=tokenized_text, vector_size=100, window=5, min_count=5, sg=1, epochs=10)\n",
    "\n",
    "# örnek bir kelimenin vektörünü bulalım\n",
    "fasttext_vektoru = fasttext_model.wv['deniz']\n",
    "print(fasttext_vektoru)\n",
    "\n"
   ]
  },
  {
   "cell_type": "code",
   "execution_count": 19,
   "id": "1ca50916",
   "metadata": {},
   "outputs": [
    {
     "name": "stdout",
     "output_type": "stream",
     "text": [
      "[('gidiyorduk', 0.9541467428207397), ('gidiyordum', 0.906378448009491), ('gitmiyordu', 0.8950204849243164), ('gidiyormuş', 0.8857194781303406), ('gidiyor', 0.8791683316230774)]\n"
     ]
    }
   ],
   "source": [
    "# örnek kelimeye benzer diğer kelimeleri bulalım\n",
    "benzer_kelimeler = fasttext_model.wv.most_similar('gidiyordu', topn=5)\n",
    "print(benzer_kelimeler)"
   ]
  },
  {
   "cell_type": "code",
   "execution_count": null,
   "id": "4beffd4b",
   "metadata": {},
   "outputs": [],
   "source": [
    "gidiyordum\n",
    "gid-iyor-du-m\n",
    "\n",
    "\n",
    "gidiyordu\n",
    "gidiyord\n",
    "gidiyor\n",
    "gidiyo\n",
    "gidiy\n",
    "..."
   ]
  },
  {
   "cell_type": "markdown",
   "id": "0e27677b",
   "metadata": {},
   "source": [
    "Kelime Vektörleri Kullanarak Benzerlik Hesaplama"
   ]
  },
  {
   "cell_type": "code",
   "execution_count": 32,
   "id": "2347c8cc",
   "metadata": {},
   "outputs": [
    {
     "name": "stdout",
     "output_type": "stream",
     "text": [
      "'okyanus' ve 'filozof' kelimeleri arasındaki kosinüs benzerlikleri:\n",
      "\n",
      "cbow      : 0.7015023231506348\n",
      "skip-gram : 0.457360178232193\n",
      "'fasttext : 0.5378599166870117\n"
     ]
    }
   ],
   "source": [
    "from scipy.spatial.distance import cosine, euclidean\n",
    "\n",
    "# iki kelime arasındaki kosinüs benzerliğini hesaplayalım\n",
    "word1 = 'okyanus'\n",
    "word2 = 'filozof'\n",
    "vector1_cbow = cbow_model.wv[word1]\n",
    "vector2_cbow = cbow_model.wv[word2]\n",
    "vector1_skip = skipgram_model.wv[word1]\n",
    "vector2_skip = skipgram_model.wv[word2]\n",
    "vector1_fast = fasttext_model.wv[word1]\n",
    "vector2_fast = fasttext_model.wv[word2]\n",
    "\n",
    "cosine_similarity_cbow = 1 - cosine(vector1_cbow, vector2_cbow)\n",
    "cosine_similarity_skip = 1 - cosine(vector1_skip, vector2_skip)\n",
    "cosine_similarity_fast = 1 - cosine(vector1_fast, vector2_fast)\n",
    "\n",
    "print(f\"'{word1}' ve '{word2}' kelimeleri arasındaki kosinüs benzerlikleri:\\n\")\n",
    "print(f\"cbow      : {cosine_similarity_cbow}\")\n",
    "print(f\"skip-gram : {cosine_similarity_skip}\")\n",
    "print(f\"'fasttext : {cosine_similarity_fast}\")"
   ]
  },
  {
   "cell_type": "markdown",
   "id": "03a3ec0b",
   "metadata": {},
   "source": [
    "Vektör İşlemleri"
   ]
  },
  {
   "cell_type": "code",
   "execution_count": 33,
   "id": "55dd8616",
   "metadata": {},
   "outputs": [],
   "source": [
    "from gensim.models import KeyedVectors\n",
    "\n",
    "# Word2Vec Türkçe önceden eğitilmiş vektörleri yükleyelim\n",
    "pretrained_word_vectors = KeyedVectors.load_word2vec_format('/home/oz/Documents/trmodel', binary=True)"
   ]
  },
  {
   "cell_type": "code",
   "execution_count": 38,
   "id": "8c8fe26b",
   "metadata": {},
   "outputs": [
    {
     "name": "stdout",
     "output_type": "stream",
     "text": [
      "[('ingiltere', 0.46313968300819397), ('isviçre', 0.4594886898994446), ('haiti', 0.4295804500579834), ('ligue', 0.42600831389427185), ('portekiz', 0.3811189830303192), ('ispanya', 0.3787420690059662), ('kktc', 0.3781594932079315), ('belçika', 0.3753180205821991), ('arjantin', 0.36835604906082153), ('şili', 0.3682883381843567), ('eritre', 0.3663794696331024), ('france', 0.36369791626930237), ('abd', 0.36092108488082886), ('avrupa', 0.3608042299747467), ('fas', 0.35798370838165283), ('cezayir', 0.35404834151268005), ('sscb', 0.3524547219276428), ('karayipler', 0.3490530252456665), ('olympique', 0.3471677303314209), ('fransız', 0.34643468260765076), ('vichy', 0.3442896902561188), ('italya', 0.34050679206848145), ('çin', 0.3390180170536041), ('hollanda', 0.3375049829483032), ('coupe', 0.33711007237434387), ('ülkelerin', 0.3365711271762848), ('korsika', 0.33603808283805847), ('polonya', 0.3301217257976532), ('mammouth', 0.32911521196365356), ('çek', 0.325097918510437)]\n"
     ]
    }
   ],
   "source": [
    "# Analoji testi\n",
    "result = pretrained_word_vectors.most_similar(positive=['türkiye', 'fransa'], negative=['ankara'], topn=30)\n",
    "print(result)"
   ]
  },
  {
   "cell_type": "markdown",
   "id": "5accd575",
   "metadata": {},
   "source": [
    "Kümeleme"
   ]
  },
  {
   "cell_type": "code",
   "execution_count": 39,
   "id": "85abea81",
   "metadata": {},
   "outputs": [
    {
     "ename": "KeyboardInterrupt",
     "evalue": "",
     "output_type": "error",
     "traceback": [
      "\u001b[0;31m---------------------------------------------------------------------------\u001b[0m",
      "\u001b[0;31mKeyboardInterrupt\u001b[0m                         Traceback (most recent call last)",
      "\u001b[0;32m/tmp/ipykernel_3009/3881859852.py\u001b[0m in \u001b[0;36m<module>\u001b[0;34m\u001b[0m\n\u001b[1;32m     10\u001b[0m \u001b[0;34m\u001b[0m\u001b[0m\n\u001b[1;32m     11\u001b[0m \u001b[0;31m# 2. Metni tokenize edip küçük harfe çevirme\u001b[0m\u001b[0;34m\u001b[0m\u001b[0;34m\u001b[0m\u001b[0m\n\u001b[0;32m---> 12\u001b[0;31m \u001b[0mtokens\u001b[0m \u001b[0;34m=\u001b[0m \u001b[0;34m[\u001b[0m\u001b[0mword\u001b[0m\u001b[0;34m.\u001b[0m\u001b[0mlower\u001b[0m\u001b[0;34m(\u001b[0m\u001b[0;34m)\u001b[0m \u001b[0;32mfor\u001b[0m \u001b[0mword\u001b[0m \u001b[0;32min\u001b[0m \u001b[0mword_tokenize\u001b[0m\u001b[0;34m(\u001b[0m\u001b[0mcorpus\u001b[0m\u001b[0;34m)\u001b[0m\u001b[0;34m]\u001b[0m\u001b[0;34m\u001b[0m\u001b[0;34m\u001b[0m\u001b[0m\n\u001b[0m\u001b[1;32m     13\u001b[0m \u001b[0;34m\u001b[0m\u001b[0m\n\u001b[1;32m     14\u001b[0m \u001b[0;31m# 3. Kelime frekanslarını hesaplama\u001b[0m\u001b[0;34m\u001b[0m\u001b[0;34m\u001b[0m\u001b[0m\n",
      "\u001b[0;32m~/anaconda3/lib/python3.9/site-packages/nltk/tokenize/__init__.py\u001b[0m in \u001b[0;36mword_tokenize\u001b[0;34m(text, language, preserve_line)\u001b[0m\n\u001b[1;32m    127\u001b[0m     \u001b[0;34m:\u001b[0m\u001b[0mtype\u001b[0m \u001b[0mpreserve_line\u001b[0m\u001b[0;34m:\u001b[0m \u001b[0mbool\u001b[0m\u001b[0;34m\u001b[0m\u001b[0;34m\u001b[0m\u001b[0m\n\u001b[1;32m    128\u001b[0m     \"\"\"\n\u001b[0;32m--> 129\u001b[0;31m     \u001b[0msentences\u001b[0m \u001b[0;34m=\u001b[0m \u001b[0;34m[\u001b[0m\u001b[0mtext\u001b[0m\u001b[0;34m]\u001b[0m \u001b[0;32mif\u001b[0m \u001b[0mpreserve_line\u001b[0m \u001b[0;32melse\u001b[0m \u001b[0msent_tokenize\u001b[0m\u001b[0;34m(\u001b[0m\u001b[0mtext\u001b[0m\u001b[0;34m,\u001b[0m \u001b[0mlanguage\u001b[0m\u001b[0;34m)\u001b[0m\u001b[0;34m\u001b[0m\u001b[0;34m\u001b[0m\u001b[0m\n\u001b[0m\u001b[1;32m    130\u001b[0m     return [\n\u001b[1;32m    131\u001b[0m         \u001b[0mtoken\u001b[0m \u001b[0;32mfor\u001b[0m \u001b[0msent\u001b[0m \u001b[0;32min\u001b[0m \u001b[0msentences\u001b[0m \u001b[0;32mfor\u001b[0m \u001b[0mtoken\u001b[0m \u001b[0;32min\u001b[0m \u001b[0m_treebank_word_tokenizer\u001b[0m\u001b[0;34m.\u001b[0m\u001b[0mtokenize\u001b[0m\u001b[0;34m(\u001b[0m\u001b[0msent\u001b[0m\u001b[0;34m)\u001b[0m\u001b[0;34m\u001b[0m\u001b[0;34m\u001b[0m\u001b[0m\n",
      "\u001b[0;32m~/anaconda3/lib/python3.9/site-packages/nltk/tokenize/__init__.py\u001b[0m in \u001b[0;36msent_tokenize\u001b[0;34m(text, language)\u001b[0m\n\u001b[1;32m    105\u001b[0m     \"\"\"\n\u001b[1;32m    106\u001b[0m     \u001b[0mtokenizer\u001b[0m \u001b[0;34m=\u001b[0m \u001b[0mload\u001b[0m\u001b[0;34m(\u001b[0m\u001b[0;34mf\"tokenizers/punkt/{language}.pickle\"\u001b[0m\u001b[0;34m)\u001b[0m\u001b[0;34m\u001b[0m\u001b[0;34m\u001b[0m\u001b[0m\n\u001b[0;32m--> 107\u001b[0;31m     \u001b[0;32mreturn\u001b[0m \u001b[0mtokenizer\u001b[0m\u001b[0;34m.\u001b[0m\u001b[0mtokenize\u001b[0m\u001b[0;34m(\u001b[0m\u001b[0mtext\u001b[0m\u001b[0;34m)\u001b[0m\u001b[0;34m\u001b[0m\u001b[0;34m\u001b[0m\u001b[0m\n\u001b[0m\u001b[1;32m    108\u001b[0m \u001b[0;34m\u001b[0m\u001b[0m\n\u001b[1;32m    109\u001b[0m \u001b[0;34m\u001b[0m\u001b[0m\n",
      "\u001b[0;32m~/anaconda3/lib/python3.9/site-packages/nltk/tokenize/punkt.py\u001b[0m in \u001b[0;36mtokenize\u001b[0;34m(self, text, realign_boundaries)\u001b[0m\n\u001b[1;32m   1274\u001b[0m         \u001b[0mGiven\u001b[0m \u001b[0ma\u001b[0m \u001b[0mtext\u001b[0m\u001b[0;34m,\u001b[0m \u001b[0mreturns\u001b[0m \u001b[0ma\u001b[0m \u001b[0mlist\u001b[0m \u001b[0mof\u001b[0m \u001b[0mthe\u001b[0m \u001b[0msentences\u001b[0m \u001b[0;32min\u001b[0m \u001b[0mthat\u001b[0m \u001b[0mtext\u001b[0m\u001b[0;34m.\u001b[0m\u001b[0;34m\u001b[0m\u001b[0;34m\u001b[0m\u001b[0m\n\u001b[1;32m   1275\u001b[0m         \"\"\"\n\u001b[0;32m-> 1276\u001b[0;31m         \u001b[0;32mreturn\u001b[0m \u001b[0mlist\u001b[0m\u001b[0;34m(\u001b[0m\u001b[0mself\u001b[0m\u001b[0;34m.\u001b[0m\u001b[0msentences_from_text\u001b[0m\u001b[0;34m(\u001b[0m\u001b[0mtext\u001b[0m\u001b[0;34m,\u001b[0m \u001b[0mrealign_boundaries\u001b[0m\u001b[0;34m)\u001b[0m\u001b[0;34m)\u001b[0m\u001b[0;34m\u001b[0m\u001b[0;34m\u001b[0m\u001b[0m\n\u001b[0m\u001b[1;32m   1277\u001b[0m \u001b[0;34m\u001b[0m\u001b[0m\n\u001b[1;32m   1278\u001b[0m     \u001b[0;32mdef\u001b[0m \u001b[0mdebug_decisions\u001b[0m\u001b[0;34m(\u001b[0m\u001b[0mself\u001b[0m\u001b[0;34m,\u001b[0m \u001b[0mtext\u001b[0m\u001b[0;34m)\u001b[0m\u001b[0;34m:\u001b[0m\u001b[0;34m\u001b[0m\u001b[0;34m\u001b[0m\u001b[0m\n",
      "\u001b[0;32m~/anaconda3/lib/python3.9/site-packages/nltk/tokenize/punkt.py\u001b[0m in \u001b[0;36msentences_from_text\u001b[0;34m(self, text, realign_boundaries)\u001b[0m\n\u001b[1;32m   1330\u001b[0m         \u001b[0mfollows\u001b[0m \u001b[0mthe\u001b[0m \u001b[0mperiod\u001b[0m\u001b[0;34m.\u001b[0m\u001b[0;34m\u001b[0m\u001b[0;34m\u001b[0m\u001b[0m\n\u001b[1;32m   1331\u001b[0m         \"\"\"\n\u001b[0;32m-> 1332\u001b[0;31m         \u001b[0;32mreturn\u001b[0m \u001b[0;34m[\u001b[0m\u001b[0mtext\u001b[0m\u001b[0;34m[\u001b[0m\u001b[0ms\u001b[0m\u001b[0;34m:\u001b[0m\u001b[0me\u001b[0m\u001b[0;34m]\u001b[0m \u001b[0;32mfor\u001b[0m \u001b[0ms\u001b[0m\u001b[0;34m,\u001b[0m \u001b[0me\u001b[0m \u001b[0;32min\u001b[0m \u001b[0mself\u001b[0m\u001b[0;34m.\u001b[0m\u001b[0mspan_tokenize\u001b[0m\u001b[0;34m(\u001b[0m\u001b[0mtext\u001b[0m\u001b[0;34m,\u001b[0m \u001b[0mrealign_boundaries\u001b[0m\u001b[0;34m)\u001b[0m\u001b[0;34m]\u001b[0m\u001b[0;34m\u001b[0m\u001b[0;34m\u001b[0m\u001b[0m\n\u001b[0m\u001b[1;32m   1333\u001b[0m \u001b[0;34m\u001b[0m\u001b[0m\n\u001b[1;32m   1334\u001b[0m     \u001b[0;32mdef\u001b[0m \u001b[0m_match_potential_end_contexts\u001b[0m\u001b[0;34m(\u001b[0m\u001b[0mself\u001b[0m\u001b[0;34m,\u001b[0m \u001b[0mtext\u001b[0m\u001b[0;34m)\u001b[0m\u001b[0;34m:\u001b[0m\u001b[0;34m\u001b[0m\u001b[0;34m\u001b[0m\u001b[0m\n",
      "\u001b[0;32m~/anaconda3/lib/python3.9/site-packages/nltk/tokenize/punkt.py\u001b[0m in \u001b[0;36m<listcomp>\u001b[0;34m(.0)\u001b[0m\n\u001b[1;32m   1330\u001b[0m         \u001b[0mfollows\u001b[0m \u001b[0mthe\u001b[0m \u001b[0mperiod\u001b[0m\u001b[0;34m.\u001b[0m\u001b[0;34m\u001b[0m\u001b[0;34m\u001b[0m\u001b[0m\n\u001b[1;32m   1331\u001b[0m         \"\"\"\n\u001b[0;32m-> 1332\u001b[0;31m         \u001b[0;32mreturn\u001b[0m \u001b[0;34m[\u001b[0m\u001b[0mtext\u001b[0m\u001b[0;34m[\u001b[0m\u001b[0ms\u001b[0m\u001b[0;34m:\u001b[0m\u001b[0me\u001b[0m\u001b[0;34m]\u001b[0m \u001b[0;32mfor\u001b[0m \u001b[0ms\u001b[0m\u001b[0;34m,\u001b[0m \u001b[0me\u001b[0m \u001b[0;32min\u001b[0m \u001b[0mself\u001b[0m\u001b[0;34m.\u001b[0m\u001b[0mspan_tokenize\u001b[0m\u001b[0;34m(\u001b[0m\u001b[0mtext\u001b[0m\u001b[0;34m,\u001b[0m \u001b[0mrealign_boundaries\u001b[0m\u001b[0;34m)\u001b[0m\u001b[0;34m]\u001b[0m\u001b[0;34m\u001b[0m\u001b[0;34m\u001b[0m\u001b[0m\n\u001b[0m\u001b[1;32m   1333\u001b[0m \u001b[0;34m\u001b[0m\u001b[0m\n\u001b[1;32m   1334\u001b[0m     \u001b[0;32mdef\u001b[0m \u001b[0m_match_potential_end_contexts\u001b[0m\u001b[0;34m(\u001b[0m\u001b[0mself\u001b[0m\u001b[0;34m,\u001b[0m \u001b[0mtext\u001b[0m\u001b[0;34m)\u001b[0m\u001b[0;34m:\u001b[0m\u001b[0;34m\u001b[0m\u001b[0;34m\u001b[0m\u001b[0m\n",
      "\u001b[0;32m~/anaconda3/lib/python3.9/site-packages/nltk/tokenize/punkt.py\u001b[0m in \u001b[0;36mspan_tokenize\u001b[0;34m(self, text, realign_boundaries)\u001b[0m\n\u001b[1;32m   1320\u001b[0m         \u001b[0;32mif\u001b[0m \u001b[0mrealign_boundaries\u001b[0m\u001b[0;34m:\u001b[0m\u001b[0;34m\u001b[0m\u001b[0;34m\u001b[0m\u001b[0m\n\u001b[1;32m   1321\u001b[0m             \u001b[0mslices\u001b[0m \u001b[0;34m=\u001b[0m \u001b[0mself\u001b[0m\u001b[0;34m.\u001b[0m\u001b[0m_realign_boundaries\u001b[0m\u001b[0;34m(\u001b[0m\u001b[0mtext\u001b[0m\u001b[0;34m,\u001b[0m \u001b[0mslices\u001b[0m\u001b[0;34m)\u001b[0m\u001b[0;34m\u001b[0m\u001b[0;34m\u001b[0m\u001b[0m\n\u001b[0;32m-> 1322\u001b[0;31m         \u001b[0;32mfor\u001b[0m \u001b[0msentence\u001b[0m \u001b[0;32min\u001b[0m \u001b[0mslices\u001b[0m\u001b[0;34m:\u001b[0m\u001b[0;34m\u001b[0m\u001b[0;34m\u001b[0m\u001b[0m\n\u001b[0m\u001b[1;32m   1323\u001b[0m             \u001b[0;32myield\u001b[0m \u001b[0;34m(\u001b[0m\u001b[0msentence\u001b[0m\u001b[0;34m.\u001b[0m\u001b[0mstart\u001b[0m\u001b[0;34m,\u001b[0m \u001b[0msentence\u001b[0m\u001b[0;34m.\u001b[0m\u001b[0mstop\u001b[0m\u001b[0;34m)\u001b[0m\u001b[0;34m\u001b[0m\u001b[0;34m\u001b[0m\u001b[0m\n\u001b[1;32m   1324\u001b[0m \u001b[0;34m\u001b[0m\u001b[0m\n",
      "\u001b[0;32m~/anaconda3/lib/python3.9/site-packages/nltk/tokenize/punkt.py\u001b[0m in \u001b[0;36m_realign_boundaries\u001b[0;34m(self, text, slices)\u001b[0m\n\u001b[1;32m   1419\u001b[0m         \"\"\"\n\u001b[1;32m   1420\u001b[0m         \u001b[0mrealign\u001b[0m \u001b[0;34m=\u001b[0m \u001b[0;36m0\u001b[0m\u001b[0;34m\u001b[0m\u001b[0;34m\u001b[0m\u001b[0m\n\u001b[0;32m-> 1421\u001b[0;31m         \u001b[0;32mfor\u001b[0m \u001b[0msentence1\u001b[0m\u001b[0;34m,\u001b[0m \u001b[0msentence2\u001b[0m \u001b[0;32min\u001b[0m \u001b[0m_pair_iter\u001b[0m\u001b[0;34m(\u001b[0m\u001b[0mslices\u001b[0m\u001b[0;34m)\u001b[0m\u001b[0;34m:\u001b[0m\u001b[0;34m\u001b[0m\u001b[0;34m\u001b[0m\u001b[0m\n\u001b[0m\u001b[1;32m   1422\u001b[0m             \u001b[0msentence1\u001b[0m \u001b[0;34m=\u001b[0m \u001b[0mslice\u001b[0m\u001b[0;34m(\u001b[0m\u001b[0msentence1\u001b[0m\u001b[0;34m.\u001b[0m\u001b[0mstart\u001b[0m \u001b[0;34m+\u001b[0m \u001b[0mrealign\u001b[0m\u001b[0;34m,\u001b[0m \u001b[0msentence1\u001b[0m\u001b[0;34m.\u001b[0m\u001b[0mstop\u001b[0m\u001b[0;34m)\u001b[0m\u001b[0;34m\u001b[0m\u001b[0;34m\u001b[0m\u001b[0m\n\u001b[1;32m   1423\u001b[0m             \u001b[0;32mif\u001b[0m \u001b[0;32mnot\u001b[0m \u001b[0msentence2\u001b[0m\u001b[0;34m:\u001b[0m\u001b[0;34m\u001b[0m\u001b[0;34m\u001b[0m\u001b[0m\n",
      "\u001b[0;32m~/anaconda3/lib/python3.9/site-packages/nltk/tokenize/punkt.py\u001b[0m in \u001b[0;36m_pair_iter\u001b[0;34m(iterator)\u001b[0m\n\u001b[1;32m    316\u001b[0m     \u001b[0miterator\u001b[0m \u001b[0;34m=\u001b[0m \u001b[0miter\u001b[0m\u001b[0;34m(\u001b[0m\u001b[0miterator\u001b[0m\u001b[0;34m)\u001b[0m\u001b[0;34m\u001b[0m\u001b[0;34m\u001b[0m\u001b[0m\n\u001b[1;32m    317\u001b[0m     \u001b[0;32mtry\u001b[0m\u001b[0;34m:\u001b[0m\u001b[0;34m\u001b[0m\u001b[0;34m\u001b[0m\u001b[0m\n\u001b[0;32m--> 318\u001b[0;31m         \u001b[0mprev\u001b[0m \u001b[0;34m=\u001b[0m \u001b[0mnext\u001b[0m\u001b[0;34m(\u001b[0m\u001b[0miterator\u001b[0m\u001b[0;34m)\u001b[0m\u001b[0;34m\u001b[0m\u001b[0;34m\u001b[0m\u001b[0m\n\u001b[0m\u001b[1;32m    319\u001b[0m     \u001b[0;32mexcept\u001b[0m \u001b[0mStopIteration\u001b[0m\u001b[0;34m:\u001b[0m\u001b[0;34m\u001b[0m\u001b[0;34m\u001b[0m\u001b[0m\n\u001b[1;32m    320\u001b[0m         \u001b[0;32mreturn\u001b[0m\u001b[0;34m\u001b[0m\u001b[0;34m\u001b[0m\u001b[0m\n",
      "\u001b[0;32m~/anaconda3/lib/python3.9/site-packages/nltk/tokenize/punkt.py\u001b[0m in \u001b[0;36m_slices_from_text\u001b[0;34m(self, text)\u001b[0m\n\u001b[1;32m   1393\u001b[0m     \u001b[0;32mdef\u001b[0m \u001b[0m_slices_from_text\u001b[0m\u001b[0;34m(\u001b[0m\u001b[0mself\u001b[0m\u001b[0;34m,\u001b[0m \u001b[0mtext\u001b[0m\u001b[0;34m)\u001b[0m\u001b[0;34m:\u001b[0m\u001b[0;34m\u001b[0m\u001b[0;34m\u001b[0m\u001b[0m\n\u001b[1;32m   1394\u001b[0m         \u001b[0mlast_break\u001b[0m \u001b[0;34m=\u001b[0m \u001b[0;36m0\u001b[0m\u001b[0;34m\u001b[0m\u001b[0;34m\u001b[0m\u001b[0m\n\u001b[0;32m-> 1395\u001b[0;31m         \u001b[0;32mfor\u001b[0m \u001b[0mmatch\u001b[0m\u001b[0;34m,\u001b[0m \u001b[0mcontext\u001b[0m \u001b[0;32min\u001b[0m \u001b[0mself\u001b[0m\u001b[0;34m.\u001b[0m\u001b[0m_match_potential_end_contexts\u001b[0m\u001b[0;34m(\u001b[0m\u001b[0mtext\u001b[0m\u001b[0;34m)\u001b[0m\u001b[0;34m:\u001b[0m\u001b[0;34m\u001b[0m\u001b[0;34m\u001b[0m\u001b[0m\n\u001b[0m\u001b[1;32m   1396\u001b[0m             \u001b[0;32mif\u001b[0m \u001b[0mself\u001b[0m\u001b[0;34m.\u001b[0m\u001b[0mtext_contains_sentbreak\u001b[0m\u001b[0;34m(\u001b[0m\u001b[0mcontext\u001b[0m\u001b[0;34m)\u001b[0m\u001b[0;34m:\u001b[0m\u001b[0;34m\u001b[0m\u001b[0;34m\u001b[0m\u001b[0m\n\u001b[1;32m   1397\u001b[0m                 \u001b[0;32myield\u001b[0m \u001b[0mslice\u001b[0m\u001b[0;34m(\u001b[0m\u001b[0mlast_break\u001b[0m\u001b[0;34m,\u001b[0m \u001b[0mmatch\u001b[0m\u001b[0;34m.\u001b[0m\u001b[0mend\u001b[0m\u001b[0;34m(\u001b[0m\u001b[0;34m)\u001b[0m\u001b[0;34m)\u001b[0m\u001b[0;34m\u001b[0m\u001b[0;34m\u001b[0m\u001b[0m\n",
      "\u001b[0;32m~/anaconda3/lib/python3.9/site-packages/nltk/tokenize/punkt.py\u001b[0m in \u001b[0;36m_match_potential_end_contexts\u001b[0;34m(self, text)\u001b[0m\n\u001b[1;32m   1378\u001b[0m                 \u001b[0;32mcontinue\u001b[0m\u001b[0;34m\u001b[0m\u001b[0;34m\u001b[0m\u001b[0m\n\u001b[1;32m   1379\u001b[0m             \u001b[0;31m# Find the word before the current match\u001b[0m\u001b[0;34m\u001b[0m\u001b[0;34m\u001b[0m\u001b[0m\n\u001b[0;32m-> 1380\u001b[0;31m             \u001b[0msplit\u001b[0m \u001b[0;34m=\u001b[0m \u001b[0mtext\u001b[0m\u001b[0;34m[\u001b[0m\u001b[0;34m:\u001b[0m \u001b[0mmatch\u001b[0m\u001b[0;34m.\u001b[0m\u001b[0mstart\u001b[0m\u001b[0;34m(\u001b[0m\u001b[0;34m)\u001b[0m\u001b[0;34m]\u001b[0m\u001b[0;34m.\u001b[0m\u001b[0mrsplit\u001b[0m\u001b[0;34m(\u001b[0m\u001b[0mmaxsplit\u001b[0m\u001b[0;34m=\u001b[0m\u001b[0;36m1\u001b[0m\u001b[0;34m)\u001b[0m\u001b[0;34m\u001b[0m\u001b[0;34m\u001b[0m\u001b[0m\n\u001b[0m\u001b[1;32m   1381\u001b[0m             \u001b[0mbefore_start\u001b[0m \u001b[0;34m=\u001b[0m \u001b[0mlen\u001b[0m\u001b[0;34m(\u001b[0m\u001b[0msplit\u001b[0m\u001b[0;34m[\u001b[0m\u001b[0;36m0\u001b[0m\u001b[0;34m]\u001b[0m\u001b[0;34m)\u001b[0m \u001b[0;32mif\u001b[0m \u001b[0mlen\u001b[0m\u001b[0;34m(\u001b[0m\u001b[0msplit\u001b[0m\u001b[0;34m)\u001b[0m \u001b[0;34m==\u001b[0m \u001b[0;36m2\u001b[0m \u001b[0;32melse\u001b[0m \u001b[0;36m0\u001b[0m\u001b[0;34m\u001b[0m\u001b[0;34m\u001b[0m\u001b[0m\n\u001b[1;32m   1382\u001b[0m             \u001b[0mbefore_words\u001b[0m\u001b[0;34m[\u001b[0m\u001b[0mmatch\u001b[0m\u001b[0;34m]\u001b[0m \u001b[0;34m=\u001b[0m \u001b[0msplit\u001b[0m\u001b[0;34m[\u001b[0m\u001b[0;34m-\u001b[0m\u001b[0;36m1\u001b[0m\u001b[0;34m]\u001b[0m \u001b[0;32mif\u001b[0m \u001b[0msplit\u001b[0m \u001b[0;32melse\u001b[0m \u001b[0;34m\"\"\u001b[0m\u001b[0;34m\u001b[0m\u001b[0;34m\u001b[0m\u001b[0m\n",
      "\u001b[0;31mKeyboardInterrupt\u001b[0m: "
     ]
    }
   ],
   "source": [
    "from gensim.models import Word2Vec\n",
    "from sklearn.cluster import KMeans\n",
    "from collections import Counter\n",
    "from nltk.tokenize import word_tokenize\n",
    "import numpy as np\n",
    "\n",
    "# 1. Metni dosyadan yükleme\n",
    "with open('dosyalar//odtu_derlemi.txt', 'r', encoding='utf-8') as file:\n",
    "    corpus = file.read()\n",
    "\n",
    "# 2. Metni tokenize edip küçük harfe çevirme\n",
    "tokens = [word.lower() for word in word_tokenize(corpus)]\n",
    "\n",
    "# 3. Kelime frekanslarını hesaplama\n",
    "kelime_frekansları = Counter(tokens)\n",
    "\n",
    "# 4. En sık 100 kelimeyi seçme\n",
    "en_sık_100_kelime = [kelime for kelime, frekans in kelime_frekansları.most_common(100)]\n",
    "\n",
    "# 5. Word2Vec modelini eğitme\n",
    "tokenized_text = [word_tokenize(sentence.lower()) for sentence in corpus.split('\\n') if sentence]\n",
    "word2vec_model = Word2Vec(sentences=tokenized_text, vector_size=100, window=5, min_count=5, sg=1, epochs=10)\n",
    "\n",
    "# 6. Seçilen kelimelerin vektörlerini çıkarma\n",
    "vektörler = [word2vec_model.wv[kelime] for kelime in en_sık_100_kelime if kelime in word2vec_model.wv]\n",
    "\n",
    "# 7. K-means kümeleme\n",
    "kmeans = KMeans(n_clusters=5, random_state=0).fit(vektörler)\n",
    "\n",
    "# 8. Kelimeleri ve kümeleri yazdırma\n",
    "for kelime, etiket in zip(en_sık_100_kelime, kmeans.labels_):\n",
    "    if kelime in word2vec_model.wv:\n",
    "        print(f\"{kelime}: Küme {etiket}\")"
   ]
  },
  {
   "cell_type": "markdown",
   "id": "ae1280f2",
   "metadata": {},
   "source": [
    "Kelime Dışlama"
   ]
  },
  {
   "cell_type": "code",
   "execution_count": 44,
   "id": "5106ca10",
   "metadata": {},
   "outputs": [
    {
     "name": "stdout",
     "output_type": "stream",
     "text": [
      "Uyumsuz kelime: oturuyorum\n"
     ]
    }
   ],
   "source": [
    "odd_word = pretrained_word_vectors.doesnt_match(['yapıyorum', 'gidiyorum', 'oturuyorum', 'gelmiyorum'])\n",
    "print(f\"Uyumsuz kelime: {odd_word}\")"
   ]
  },
  {
   "cell_type": "markdown",
   "id": "4809c1f5",
   "metadata": {},
   "source": [
    "Vektör Görselleştirme"
   ]
  },
  {
   "cell_type": "code",
   "execution_count": 52,
   "id": "20caf1ad",
   "metadata": {},
   "outputs": [
    {
     "data": {
      "image/png": "[encoded data removed]",
      "text/plain": [
       "<Figure size 1000x1000 with 1 Axes>"
      ]
     },
     "metadata": {},
     "output_type": "display_data"
    }
   ],
   "source": [
    "from sklearn.decomposition import PCA\n",
    "import matplotlib.pyplot as plt\n",
    "\n",
    "kelimeler = ['geldi', 'gelmedi', 'gelse', 'gelmese']\n",
    "vektörler = [fasttext_model.wv[word] for word in kelimeler]\n",
    "\n",
    "pca = PCA(n_components=2)\n",
    "reduced_vectors = pca.fit_transform(vektörler)\n",
    "\n",
    "plt.figure(figsize=(10, 10))\n",
    "for i, kelime in enumerate(kelimeler):\n",
    "    plt.scatter(reduced_vectors[i, 0], reduced_vectors[i, 1])\n",
    "    plt.text(reduced_vectors[i, 0] + 0.01, reduced_vectors[i, 1] + 0.01, kelime)\n",
    "\n",
    "plt.show()"
   ]
  }
 ],
 "metadata": {
  "kernelspec": {
   "display_name": "Python 3 (ipykernel)",
   "language": "python",
   "name": "python3"
  },
  "language_info": {
   "codemirror_mode": {
    "name": "ipython",
    "version": 3
   },
   "file_extension": ".py",
   "mimetype": "text/x-python",
   "name": "python",
   "nbconvert_exporter": "python",
   "pygments_lexer": "ipython3",
   "version": "3.9.13"
  }
 },
 "nbformat": 4,
 "nbformat_minor": 5
}
