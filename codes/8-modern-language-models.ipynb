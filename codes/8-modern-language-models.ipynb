{
 "cells": [
  {
   "cell_type": "markdown",
   "id": "bd4e45f4",
   "metadata": {},
   "source": [
    "**BERT (Bidirectional Encoder Representations from Transformers)**\n",
    "\n",
    "Mimari Özellikler:\n",
    "* Çift yönlü bağlam kullanır: Bir kelimenin anlamını belirlerken hem sol hem sağ bağlamı dikkate alır.\n",
    "* Maskeli dil modeli (Masked Language Model, MLM): Girdide bazı kelimeler maskelenir ve modelin bu kelimeleri tahmin etmesi beklenir.\n",
    "* \"Next Sentence Prediction (NSP)\": İki cümle arasında bir bağlantı olup olmadığını öğrenir.\n",
    "\n",
    "Avantajlar:\n",
    "* Çift yönlü bağlam, bağlama dayalı görevlerde yüksek doğruluk sağlar.\n",
    "* Çok sayıda önceden eğitilmiş varyant (ör., Türkçe için BERTurk) sayesinde birçok dilde güçlü performans gösterir.\n",
    "\n",
    "Dezavantajlar:\n",
    "* Büyük boyutu nedeniyle hesaplama açısından maliyetlidir.\n",
    "* Daha uzun metinlerde işlem yapmakta zorluk yaşayabilir."
   ]
  },
  {
   "cell_type": "markdown",
   "id": "d7025803",
   "metadata": {},
   "source": [
    "**GPT (Generative Pre-trained Transformer)**\n",
    "\n",
    "Mimari Özellikler:\n",
    "* Otoregresif modelleme: Bir sonraki kelimeyi tahmin ederken önceki kelimelere dayalı bir bağlam kullanır.\n",
    "* Sadece \"Transformer Decoder\" bileşeni kullanılır.\n",
    "* Eğitim süreci tamamen veri odaklıdır, maskeli dil modeli kullanılmaz.\n",
    "\n",
    "Avantajlar:\n",
    "* Yaratıcı metin üretiminde başarılıdır.\n",
    "* Özellikle çok büyük dil modelleri (ör., GPT-3 ve GPT-4) insan benzeri metinler oluşturabilir.\n",
    "\n",
    "Dezavantajlar:\n",
    "* \"Hallucination\" problemi: Gerçek dışı ama makul görünen bilgiler üretebilir.\n",
    "* Veri ve işlem maliyeti oldukça yüksektir."
   ]
  },
  {
   "cell_type": "markdown",
   "id": "17d7b143",
   "metadata": {},
   "source": [
    "**T5 (Text-to-Text Transfer Transformer)**\n",
    "\n",
    "Mimari Özellikler:\n",
    "* Her NLP görevini bir \"text-to-text\" problemi olarak ifade eder. Örneğin:\n",
    "    * Girdi: \"Translate English to French: How are you?\"\n",
    "    * Çıktı: \"Comment ça va?\"\n",
    "* Encoder-Decoder mimarisi kullanır.\n",
    "\n",
    "Avantajlar:\n",
    "* Çok yönlüdür; metin sınıflandırma, çeviri, özetleme gibi birçok görevde kullanılabilir.\n",
    "* Transfer öğrenimi için uygun bir altyapı sunar.\n",
    "\n",
    "Dezavantajlar:\n",
    "* Eğitim sırasında büyük veri ve işlem gücü gerektirir.\n",
    "* Karmaşık yapılandırması nedeniyle implementasyonu zor olabilir."
   ]
  }
 ],
 "metadata": {
  "kernelspec": {
   "display_name": "Python 3 (ipykernel)",
   "language": "python",
   "name": "python3"
  },
  "language_info": {
   "codemirror_mode": {
    "name": "ipython",
    "version": 3
   },
   "file_extension": ".py",
   "mimetype": "text/x-python",
   "name": "python",
   "nbconvert_exporter": "python",
   "pygments_lexer": "ipython3",
   "version": "3.11.5"
  }
 },
 "nbformat": 4,
 "nbformat_minor": 5
}
